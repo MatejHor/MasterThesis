{
 "cells": [
  {
   "cell_type": "code",
   "execution_count": 1,
   "metadata": {},
   "outputs": [
    {
     "name": "stdout",
     "output_type": "stream",
     "text": [
      "Device mapping:\n",
      "/job:localhost/replica:0/task:0/device:GPU:0 -> device: 0, name: NVIDIA GeForce RTX 3070, pci bus id: 0000:26:00.0, compute capability: 8.6\n",
      "\n",
      "Num GPUs Available:  1\n"
     ]
    }
   ],
   "source": [
    "import tensorflow as tf\n",
    "\n",
    "sess = tf.compat.v1.Session(config=tf.compat.v1.ConfigProto(log_device_placement=True))\n",
    "print(\"Num GPUs Available: \", len(tf.config.list_physical_devices('GPU')))\n",
    "\n",
    "from sklearn.model_selection import train_test_split\n",
    "from keras.models import Model\n",
    "from keras.layers import Input, Dense, Conv2D, MaxPooling2D, UpSampling2D, BatchNormalization, GlobalAveragePooling2D\n",
    "from keras.layers import Activation, Flatten, Dropout, Conv2DTranspose\n",
    "from tensorflow import keras"
   ]
  },
  {
   "cell_type": "code",
   "execution_count": 2,
   "metadata": {},
   "outputs": [
    {
     "name": "stdout",
     "output_type": "stream",
     "text": [
      "Loaded (97) images from .\\data\\cnn_data_cut\n"
     ]
    }
   ],
   "source": [
    "import helper_func as hf\n",
    "import cv2\n",
    "import os\n",
    "import re\n",
    "import numpy as np\n",
    "import math\n",
    "\n",
    "cnn = os.path.join('.', 'data', 'CNN_data')\n",
    "cnn_cut = os.path.join('.', 'data', 'cnn_data_cut')\n",
    "\n",
    "images = hf.load_data(cnn_cut, grayscale=False)"
   ]
  },
  {
   "cell_type": "code",
   "execution_count": 65,
   "metadata": {},
   "outputs": [
    {
     "name": "stdout",
     "output_type": "stream",
     "text": [
      "Loaded (97) images from .\\data\\cnn_data_cut\n"
     ]
    }
   ],
   "source": [
    "x_train = np.array(list(map(lambda x: x['img'], images)))\n",
    "y_train = np.array(list(map(lambda x: 1 if \"True\" in x['name'] else 0, images)))\n",
    "\n",
    "shape = x_train[0].shape\n",
    "epochs = 10\n",
    "batch = 10\n",
    "\n",
    "x_train, x_test, y_train, y_test = train_test_split(x_train, y_train,test_size=0.2,train_size=0.8)"
   ]
  },
  {
   "cell_type": "code",
   "execution_count": 66,
   "metadata": {},
   "outputs": [],
   "source": [
    "input_layer = Input(shape=shape)\n",
    "conv1 = Conv2D(32, (7, 7), data_format=\"channels_first\", padding='same', activation='linear')(input_layer)\n",
    "conv1 = MaxPooling2D((2, 2))(conv1)\n",
    "conv1 = Activation('relu')(conv1)\n",
    "\n",
    "conv1 = Conv2D(32, (5, 5), data_format=\"channels_first\", padding='same', activation='linear')(conv1)\n",
    "conv1 = MaxPooling2D((2, 2))(conv1)\n",
    "conv1 = Activation('relu')(conv1)\n",
    "\n",
    "dense1 = Flatten()(conv1)\n",
    "output = Dense(1, activation='sigmoid')(dense1)\n",
    "\n",
    "model = Model(inputs=[input_layer], outputs=[output])"
   ]
  },
  {
   "cell_type": "code",
   "execution_count": 67,
   "metadata": {},
   "outputs": [
    {
     "name": "stdout",
     "output_type": "stream",
     "text": [
      "Epoch 1/10\n",
      "8/8 [==============================] - 7s 19ms/step - loss: 0.0000e+00 - accuracy: 0.5455\n",
      "Epoch 2/10\n",
      "8/8 [==============================] - 0s 7ms/step - loss: 0.0000e+00 - accuracy: 0.5714\n",
      "Epoch 3/10\n",
      "8/8 [==============================] - 0s 7ms/step - loss: 0.0000e+00 - accuracy: 0.5714\n",
      "Epoch 4/10\n",
      "8/8 [==============================] - 0s 7ms/step - loss: 0.0000e+00 - accuracy: 0.5714\n",
      "Epoch 5/10\n",
      "8/8 [==============================] - 0s 7ms/step - loss: 0.0000e+00 - accuracy: 0.5714\n",
      "Epoch 6/10\n",
      "8/8 [==============================] - 0s 7ms/step - loss: 0.0000e+00 - accuracy: 0.5714\n",
      "Epoch 7/10\n",
      "8/8 [==============================] - 0s 7ms/step - loss: 0.0000e+00 - accuracy: 0.5714\n",
      "Epoch 8/10\n",
      "8/8 [==============================] - 0s 7ms/step - loss: 0.0000e+00 - accuracy: 0.5714\n",
      "Epoch 9/10\n",
      "8/8 [==============================] - 0s 7ms/step - loss: 0.0000e+00 - accuracy: 0.5714\n",
      "Epoch 10/10\n",
      "8/8 [==============================] - 0s 7ms/step - loss: 0.0000e+00 - accuracy: 0.5714\n"
     ]
    }
   ],
   "source": [
    "model.compile(loss=keras.losses.categorical_crossentropy, \n",
    "              optimizer=keras.optimizers.Adam(), \n",
    "              metrics=['accuracy'])\n",
    "\n",
    "history = model.fit(\n",
    "    x_train,\n",
    "    y_train,\n",
    "    epochs=epochs,\n",
    "    batch_size=batch,\n",
    "    verbose=1,\n",
    "    shuffle='batch',\n",
    "    use_multiprocessing=True, \n",
    "    workers=8\n",
    ")"
   ]
  },
  {
   "cell_type": "code",
   "execution_count": 69,
   "metadata": {},
   "outputs": [
    {
     "name": "stdout",
     "output_type": "stream",
     "text": [
      "1/1 [==============================] - 0s 178ms/step - loss: 0.0000e+00 - accuracy: 0.7500\n"
     ]
    }
   ],
   "source": [
    "test_eval = model.evaluate(x_test, y_test, verbose=1)"
   ]
  }
 ],
 "metadata": {
  "interpreter": {
   "hash": "94cf6172493c29e02bec51d58f8b96c7b1e261b7dfa361664c031b0cb8c31640"
  },
  "kernelspec": {
   "display_name": "Python 3.8.8 64-bit ('base': conda)",
   "language": "python",
   "name": "python3"
  },
  "language_info": {
   "codemirror_mode": {
    "name": "ipython",
    "version": 3
   },
   "file_extension": ".py",
   "mimetype": "text/x-python",
   "name": "python",
   "nbconvert_exporter": "python",
   "pygments_lexer": "ipython3",
   "version": "3.8.8"
  },
  "orig_nbformat": 4
 },
 "nbformat": 4,
 "nbformat_minor": 2
}
